{
  "nbformat": 4,
  "nbformat_minor": 0,
  "metadata": {
    "colab": {
      "provenance": [],
      "include_colab_link": true
    },
    "kernelspec": {
      "name": "python3",
      "display_name": "Python 3"
    },
    "language_info": {
      "name": "python"
    },
    "accelerator": "GPU"
  },
  "cells": [
    {
      "cell_type": "markdown",
      "metadata": {
        "id": "view-in-github",
        "colab_type": "text"
      },
      "source": [
        "<a href=\"https://colab.research.google.com/github/Grupo-de-Pesquisa-em-PLN-Portuguesa/Code-Investigating-Deep-Learning-Approaches-for-Hate-Speech-Detection-in-Social-Media-Code/blob/main/Copy_Rafa_Bert_3.ipynb\" target=\"_parent\"><img src=\"https://colab.research.google.com/assets/colab-badge.svg\" alt=\"Open In Colab\"/></a>"
      ]
    },
    {
      "cell_type": "code",
      "source": [
        "!pip install transformers"
      ],
      "metadata": {
        "colab": {
          "base_uri": "https://localhost:8080/"
        },
        "id": "QkHXurp6PwZm",
        "outputId": "f770cbc7-4fa5-44e3-febb-fa8aa047116d"
      },
      "execution_count": null,
      "outputs": [
        {
          "output_type": "stream",
          "name": "stdout",
          "text": [
            "Looking in indexes: https://pypi.org/simple, https://us-python.pkg.dev/colab-wheels/public/simple/\n",
            "Requirement already satisfied: transformers in /usr/local/lib/python3.7/dist-packages (4.22.2)\n",
            "Requirement already satisfied: huggingface-hub<1.0,>=0.9.0 in /usr/local/lib/python3.7/dist-packages (from transformers) (0.10.0)\n",
            "Requirement already satisfied: regex!=2019.12.17 in /usr/local/lib/python3.7/dist-packages (from transformers) (2022.6.2)\n",
            "Requirement already satisfied: numpy>=1.17 in /usr/local/lib/python3.7/dist-packages (from transformers) (1.21.6)\n",
            "Requirement already satisfied: requests in /usr/local/lib/python3.7/dist-packages (from transformers) (2.23.0)\n",
            "Requirement already satisfied: packaging>=20.0 in /usr/local/lib/python3.7/dist-packages (from transformers) (21.3)\n",
            "Requirement already satisfied: importlib-metadata in /usr/local/lib/python3.7/dist-packages (from transformers) (4.12.0)\n",
            "Requirement already satisfied: tokenizers!=0.11.3,<0.13,>=0.11.1 in /usr/local/lib/python3.7/dist-packages (from transformers) (0.12.1)\n",
            "Requirement already satisfied: filelock in /usr/local/lib/python3.7/dist-packages (from transformers) (3.8.0)\n",
            "Requirement already satisfied: pyyaml>=5.1 in /usr/local/lib/python3.7/dist-packages (from transformers) (6.0)\n",
            "Requirement already satisfied: tqdm>=4.27 in /usr/local/lib/python3.7/dist-packages (from transformers) (4.64.1)\n",
            "Requirement already satisfied: typing-extensions>=3.7.4.3 in /usr/local/lib/python3.7/dist-packages (from huggingface-hub<1.0,>=0.9.0->transformers) (4.1.1)\n",
            "Requirement already satisfied: pyparsing!=3.0.5,>=2.0.2 in /usr/local/lib/python3.7/dist-packages (from packaging>=20.0->transformers) (3.0.9)\n",
            "Requirement already satisfied: zipp>=0.5 in /usr/local/lib/python3.7/dist-packages (from importlib-metadata->transformers) (3.8.1)\n",
            "Requirement already satisfied: urllib3!=1.25.0,!=1.25.1,<1.26,>=1.21.1 in /usr/local/lib/python3.7/dist-packages (from requests->transformers) (1.24.3)\n",
            "Requirement already satisfied: certifi>=2017.4.17 in /usr/local/lib/python3.7/dist-packages (from requests->transformers) (2022.6.15)\n",
            "Requirement already satisfied: idna<3,>=2.5 in /usr/local/lib/python3.7/dist-packages (from requests->transformers) (2.10)\n",
            "Requirement already satisfied: chardet<4,>=3.0.2 in /usr/local/lib/python3.7/dist-packages (from requests->transformers) (3.0.4)\n"
          ]
        }
      ]
    },
    {
      "cell_type": "code",
      "source": [
        "import gdown\n",
        "! gdown --id --no-cookies 1RmNLquNhgeG68mP0gpfSvfw8jJcsBUgp"
      ],
      "metadata": {
        "colab": {
          "base_uri": "https://localhost:8080/"
        },
        "id": "PtjXGv1tIzsz",
        "outputId": "d41cb490-96c9-43d6-aa80-c1093bf9ffdf"
      },
      "execution_count": null,
      "outputs": [
        {
          "output_type": "stream",
          "name": "stdout",
          "text": [
            "/usr/local/lib/python3.7/dist-packages/gdown/cli.py:131: FutureWarning: Option `--id` was deprecated in version 4.3.1 and will be removed in 5.0. You don't need to pass it anymore to use a file ID.\n",
            "  category=FutureWarning,\n",
            "Downloading...\n",
            "From: https://drive.google.com/uc?id=1RmNLquNhgeG68mP0gpfSvfw8jJcsBUgp\n",
            "To: /content/hatetag_not_hatetag.csv\n",
            "100% 2.44M/2.44M [00:00<00:00, 153MB/s]\n"
          ]
        }
      ]
    },
    {
      "cell_type": "code",
      "source": [
        "# gdown.download(\n",
        "#     f\"https://drive.google.com/uc?export=download&confirm=pbef&id=1mDpf8zhPYs8A03u7vCvOnPnTa8IU1IeU\",\n",
        "#     output = 'cbow_s300.txt'\n",
        "# )"
      ],
      "metadata": {
        "id": "N0EFmvIUQHbo"
      },
      "execution_count": null,
      "outputs": []
    },
    {
      "cell_type": "code",
      "source": [
        "gdown.download(\n",
        "    f\"https://drive.google.com/uc?export=download&confirm=pbef&id=1O7_jnwo7kjo-F3HgSuyTTeIGxrc9WHOy\",\n",
        "    output = 'nrrlib.py'\n",
        ")"
      ],
      "metadata": {
        "colab": {
          "base_uri": "https://localhost:8080/",
          "height": 104
        },
        "id": "QRIU8XwCRFvm",
        "outputId": "5a7564cb-4533-4155-cbb1-a2fc5b8a75cb"
      },
      "execution_count": null,
      "outputs": [
        {
          "output_type": "stream",
          "name": "stderr",
          "text": [
            "Downloading...\n",
            "From: https://drive.google.com/uc?export=download&confirm=pbef&id=1O7_jnwo7kjo-F3HgSuyTTeIGxrc9WHOy\n",
            "To: /content/nrrlib.py\n",
            "100%|██████████| 4.16k/4.16k [00:00<00:00, 5.35MB/s]\n"
          ]
        },
        {
          "output_type": "execute_result",
          "data": {
            "text/plain": [
              "'nrrlib.py'"
            ],
            "application/vnd.google.colaboratory.intrinsic+json": {
              "type": "string"
            }
          },
          "metadata": {},
          "execution_count": 4
        }
      ]
    },
    {
      "cell_type": "code",
      "source": [
        "import os\n",
        "import time\n",
        "import nrrlib as ntl\n",
        "from keras.backend import dropout\n",
        "start_time = time.time()\n",
        "import tensorflow as tf\n",
        "import numpy as np\n",
        "import random as rn"
      ],
      "metadata": {
        "id": "Km-9N-ZdMsgN"
      },
      "execution_count": null,
      "outputs": []
    },
    {
      "cell_type": "code",
      "source": [
        "# random state\n",
        "sd = 5\n",
        "np.random.seed(sd)\n",
        "rn.seed(sd)\n",
        "os.environ['PYTHONHASHSEED']=str(sd)\n",
        "tf.random.set_seed(sd)"
      ],
      "metadata": {
        "id": "D-ew3dDfMvlQ"
      },
      "execution_count": null,
      "outputs": []
    },
    {
      "cell_type": "code",
      "source": [
        "print(np.random.seed(sd))\n",
        "print(rn.seed(sd))"
      ],
      "metadata": {
        "colab": {
          "base_uri": "https://localhost:8080/"
        },
        "id": "ZsRAPIdcNBuh",
        "outputId": "671457bd-3dfb-43f2-b740-07e8feaf2fac"
      },
      "execution_count": null,
      "outputs": [
        {
          "output_type": "stream",
          "name": "stdout",
          "text": [
            "None\n",
            "None\n"
          ]
        }
      ]
    },
    {
      "cell_type": "code",
      "source": [
        "# load das libs\n",
        "import matplotlib.pyplot as plt\n",
        "from keras.preprocessing import sequence\n",
        "from keras.models import Sequential\n",
        "from keras.layers import Dense, Dropout, Activation\n",
        "from keras.layers import Embedding\n",
        "from keras.layers import Conv1D, Flatten, MaxPooling1D\n",
        "import pandas as pd\n",
        "import sklearn\n",
        "from sklearn.model_selection import train_test_split\n",
        "from keras.preprocessing.text import Tokenizer\n",
        "from keras.preprocessing.sequence import pad_sequences\n",
        "from keras.layers.embeddings import Embedding\n",
        "from tensorflow.keras.optimizers import Adam\n",
        "from tensorflow.keras.optimizers import Nadam\n",
        "from tensorflow.keras.optimizers import SGD\n",
        "from tensorflow.keras import optimizers\n",
        "from gensim.models import KeyedVectors"
      ],
      "metadata": {
        "id": "12X_Zmwua6WF"
      },
      "execution_count": null,
      "outputs": []
    },
    {
      "cell_type": "code",
      "source": [
        "#bert\n",
        "from transformers import AutoTokenizer  # Or BertTokenizer\n",
        "from transformers import AutoModelForPreTraining  # Or BertForPreTraining for loading pretraining heads\n",
        "from transformers import TFAutoModelForSequenceClassification  # Or BertForPreTraining for loading pretraining heads\n",
        "from transformers import AutoModel  # or BertModel, for BERT without pretraining heads\n",
        "\n",
        "# model = AutoModelForPreTraining.from_pretrained('neuralmind/bert-base-portuguese-cased')\n",
        "# tokenizer = AutoTokenizer.from_pretrained('neuralmind/bert-base-portuguese-cased', do_lower_case=False)"
      ],
      "metadata": {
        "id": "8PDlwNlMEfrR"
      },
      "execution_count": null,
      "outputs": []
    },
    {
      "cell_type": "code",
      "source": [
        "# Load data\n",
        "#reviews1 = pd.read_csv('ratings.csv')\n",
        "reviews = pd.read_csv('/content/hatetag_not_hatetag.csv')\n",
        "\n",
        "#print(reviews1.head)\n",
        "print(reviews.head)\n",
        "\n",
        "pd.set_option('display.max_colwidth',1000)\n",
        "\n",
        "classe = [1 if each == 'hatetag' else 0 for each in reviews[' label']]\n",
        "texto = reviews['tweet']\n",
        "\n",
        "print('Dataset Loaded')\n",
        "#test_tokenize(tokenize)"
      ],
      "metadata": {
        "colab": {
          "base_uri": "https://localhost:8080/"
        },
        "id": "IiuROfH_a8hT",
        "outputId": "73df2984-3fdf-40dc-9af0-888d83030aab"
      },
      "execution_count": null,
      "outputs": [
        {
          "output_type": "stream",
          "name": "stdout",
          "text": [
            "<bound method NDFrame.head of                                                    tweet        label\n",
            "0      a primeira vez que um genocida presta solidari...      hatetag\n",
            "1                      bolsonaro assassino de  mil vidas      hatetag\n",
            "2      bolsonaro bosta bolsomerda bozolixo em realeng...      hatetag\n",
            "3      bolsonaro nazista bozolixo mito mico lulalivre...      hatetag\n",
            "4      bolsonaro nazista brasil fascismo nazismo bols...      hatetag\n",
            "...                                                  ...          ...\n",
            "31618  única coisa que atraio é os carros na hora que...  not_hatetag\n",
            "31619                         única explicação plausível  not_hatetag\n",
            "31620  única foto que tenho de ontem é uma minha e da...  not_hatetag\n",
            "31621                 único  que eu respeito bozo elenão      hatetag\n",
            "31622  único posicionamento possível da anitta neste ...  not_hatetag\n",
            "\n",
            "[31623 rows x 2 columns]>\n",
            "Dataset Loaded\n"
          ]
        }
      ]
    },
    {
      "cell_type": "code",
      "source": [
        "text_tokenized, text_tokenizer = ntl.tokenize(texto)\n",
        "\n",
        "ntl.test_pad(ntl.pad)\n",
        "test_pad = ntl.pad(text_tokenized)\n",
        "\n",
        "target = classe\n",
        "y = pd.get_dummies(target).values\n",
        "\n",
        "preproc_texto, texto_tokenizer =\\\n",
        "    ntl.preprocess(texto)\n",
        "\n",
        "max_text_length = preproc_texto.shape[1]\n",
        "text_vocab_size = len(texto_tokenizer.word_index)\n",
        "\n",
        "worddx = texto_tokenizer.word_index\n",
        "\n",
        "print('Data Preprocessed')\n",
        "print(\"Max sentence length:\", max_text_length)\n",
        "print(\"Vocabulary size:\", text_vocab_size)"
      ],
      "metadata": {
        "colab": {
          "base_uri": "https://localhost:8080/"
        },
        "id": "WWd6CojTbAMq",
        "outputId": "aac336b9-bf46-4e75-f5c9-295d274e111e"
      },
      "execution_count": null,
      "outputs": [
        {
          "output_type": "stream",
          "name": "stdout",
          "text": [
            "Data Preprocessed\n",
            "Max sentence length: 100\n",
            "Vocabulary size: 39618\n"
          ]
        }
      ]
    },
    {
      "cell_type": "code",
      "source": [
        "# parametros:\n",
        "tam_vocab = text_vocab_size # vocabulário do embedding\n",
        "tam_max = max_text_length # 100\n",
        "batchsize = 64  # 64\n",
        "embedding_dimen = 300  # 50 ! 300\n",
        "filtros = 250 #250\n",
        "kernel_size = 2 # 3 | 2\n",
        "hidden_dims = 100 # not used\n",
        "epochs = 15\n",
        "lr = 0.0006 # 0.00006\n",
        "drp = 0.4   # coeficiente de dropout\n",
        "\n",
        "X_train, X_test, y_train, y_test = train_test_split(test_pad, y, test_size=0.3)\n",
        "\n",
        "lr_schedule = optimizers.schedules.ExponentialDecay(\n",
        "    initial_learning_rate=lr,\n",
        "    decay_steps=10000,\n",
        "    decay_rate=0.9)\n",
        "optimizer = Adam(learning_rate=lr_schedule)\n",
        "# optimizer = SGD(learning_rate=lr_schedule)\n",
        "#optimizer = Nadam(learning_rate=0.01)\n",
        "\n",
        "start_time2 = time.time()\n",
        "\n",
        "print(); print(\"Time to load model: %.5s s.\\n\" % (time.time() - start_time2))"
      ],
      "metadata": {
        "colab": {
          "base_uri": "https://localhost:8080/"
        },
        "id": "b2BxK8uVBnh_",
        "outputId": "eb3df5ba-d098-4b93-eb52-268971fbeaba"
      },
      "execution_count": null,
      "outputs": [
        {
          "output_type": "stream",
          "name": "stdout",
          "text": [
            "\n",
            "Time to load model: 0.001 s.\n",
            "\n"
          ]
        }
      ]
    },
    {
      "cell_type": "code",
      "source": [
        "import torch\n",
        "\n",
        "model = AutoModel.from_pretrained('neuralmind/bert-base-portuguese-cased')\n",
        "model.save_pretrained(\"Bertimbau_trained\")\n",
        "model = TFAutoModelForSequenceClassification.from_pretrained(\"Bertimbau_trained\", from_pt=True) #from_pt : Pytorch"
      ],
      "metadata": {
        "colab": {
          "base_uri": "https://localhost:8080/"
        },
        "id": "ItiZtoq7NAqF",
        "outputId": "900305d9-6439-4fac-903a-a2a44ce5b8dd"
      },
      "execution_count": null,
      "outputs": [
        {
          "output_type": "stream",
          "name": "stderr",
          "text": [
            "Some weights of the model checkpoint at neuralmind/bert-base-portuguese-cased were not used when initializing BertModel: ['cls.seq_relationship.bias', 'cls.predictions.transform.dense.weight', 'cls.predictions.transform.LayerNorm.weight', 'cls.predictions.transform.LayerNorm.bias', 'cls.predictions.transform.dense.bias', 'cls.predictions.decoder.weight', 'cls.predictions.bias', 'cls.seq_relationship.weight']\n",
            "- This IS expected if you are initializing BertModel from the checkpoint of a model trained on another task or with another architecture (e.g. initializing a BertForSequenceClassification model from a BertForPreTraining model).\n",
            "- This IS NOT expected if you are initializing BertModel from the checkpoint of a model that you expect to be exactly identical (initializing a BertForSequenceClassification model from a BertForSequenceClassification model).\n",
            "Some weights of the PyTorch model were not used when initializing the TF 2.0 model TFBertForSequenceClassification: ['embeddings.position_ids']\n",
            "- This IS expected if you are initializing TFBertForSequenceClassification from a PyTorch model trained on another task or with another architecture (e.g. initializing a TFBertForSequenceClassification model from a BertForPreTraining model).\n",
            "- This IS NOT expected if you are initializing TFBertForSequenceClassification from a PyTorch model that you expect to be exactly identical (e.g. initializing a TFBertForSequenceClassification model from a BertForSequenceClassification model).\n",
            "Some weights or buffers of the TF 2.0 model TFBertForSequenceClassification were not initialized from the PyTorch model and are newly initialized: ['classifier.weight', 'classifier.bias']\n",
            "You should probably TRAIN this model on a down-stream task to be able to use it for predictions and inference.\n"
          ]
        }
      ]
    },
    {
      "cell_type": "code",
      "source": [
        "model.compile(loss='binary_crossentropy', optimizer=optimizer, metrics=['accuracy'])\n",
        "model.summary()\n",
        "history = model.fit(X_train, y_train, batch_size=batchsize, epochs=epochs,validation_data=(X_test, y_test), validation_split = 0.3, verbose=2)"
      ],
      "metadata": {
        "colab": {
          "base_uri": "https://localhost:8080/"
        },
        "id": "gTgOugaBRK9y",
        "outputId": "1e387ce5-aa8e-4da8-b849-05f5d2ea416d"
      },
      "execution_count": null,
      "outputs": [
        {
          "output_type": "stream",
          "name": "stdout",
          "text": [
            "Model: \"tf_bert_for_sequence_classification\"\n",
            "_________________________________________________________________\n",
            " Layer (type)                Output Shape              Param #   \n",
            "=================================================================\n",
            " bert (TFBertMainLayer)      multiple                  108923136 \n",
            "                                                                 \n",
            " dropout_37 (Dropout)        multiple                  0         \n",
            "                                                                 \n",
            " classifier (Dense)          multiple                  1538      \n",
            "                                                                 \n",
            "=================================================================\n",
            "Total params: 108,924,674\n",
            "Trainable params: 108,924,674\n",
            "Non-trainable params: 0\n",
            "_________________________________________________________________\n",
            "Epoch 1/15\n",
            "243/243 - 342s - loss: 2.1240 - accuracy: 0.8618 - val_loss: 2.1016 - val_accuracy: 0.8630 - 342s/epoch - 1s/step\n",
            "Epoch 2/15\n",
            "243/243 - 318s - loss: 2.1182 - accuracy: 0.8619 - val_loss: 2.1016 - val_accuracy: 0.8630 - 318s/epoch - 1s/step\n",
            "Epoch 3/15\n",
            "243/243 - 318s - loss: 2.1182 - accuracy: 0.8619 - val_loss: 2.1016 - val_accuracy: 0.8630 - 318s/epoch - 1s/step\n",
            "Epoch 4/15\n",
            "243/243 - 318s - loss: 2.1182 - accuracy: 0.8619 - val_loss: 2.1016 - val_accuracy: 0.8630 - 318s/epoch - 1s/step\n",
            "Epoch 5/15\n",
            "243/243 - 317s - loss: 2.1182 - accuracy: 0.8619 - val_loss: 2.1016 - val_accuracy: 0.8630 - 317s/epoch - 1s/step\n",
            "Epoch 6/15\n",
            "243/243 - 317s - loss: 2.1182 - accuracy: 0.8619 - val_loss: 2.1016 - val_accuracy: 0.8630 - 317s/epoch - 1s/step\n",
            "Epoch 7/15\n",
            "243/243 - 318s - loss: 2.1182 - accuracy: 0.8619 - val_loss: 2.1016 - val_accuracy: 0.8630 - 318s/epoch - 1s/step\n",
            "Epoch 8/15\n",
            "243/243 - 318s - loss: 2.1182 - accuracy: 0.8619 - val_loss: 2.1016 - val_accuracy: 0.8630 - 318s/epoch - 1s/step\n",
            "Epoch 9/15\n",
            "243/243 - 318s - loss: 2.1182 - accuracy: 0.8619 - val_loss: 2.1016 - val_accuracy: 0.8630 - 318s/epoch - 1s/step\n",
            "Epoch 10/15\n",
            "243/243 - 318s - loss: 2.1182 - accuracy: 0.8619 - val_loss: 2.1016 - val_accuracy: 0.8630 - 318s/epoch - 1s/step\n",
            "Epoch 11/15\n",
            "243/243 - 318s - loss: 2.1182 - accuracy: 0.8619 - val_loss: 2.1016 - val_accuracy: 0.8630 - 318s/epoch - 1s/step\n",
            "Epoch 12/15\n",
            "243/243 - 317s - loss: 2.1182 - accuracy: 0.8619 - val_loss: 2.1016 - val_accuracy: 0.8630 - 317s/epoch - 1s/step\n",
            "Epoch 13/15\n",
            "243/243 - 318s - loss: 2.1182 - accuracy: 0.8619 - val_loss: 2.1016 - val_accuracy: 0.8630 - 318s/epoch - 1s/step\n",
            "Epoch 14/15\n",
            "243/243 - 318s - loss: 2.1182 - accuracy: 0.8619 - val_loss: 2.1016 - val_accuracy: 0.8630 - 318s/epoch - 1s/step\n",
            "Epoch 15/15\n",
            "243/243 - 317s - loss: 2.1182 - accuracy: 0.8619 - val_loss: 2.1016 - val_accuracy: 0.8630 - 317s/epoch - 1s/step\n"
          ]
        }
      ]
    },
    {
      "cell_type": "code",
      "source": [
        "# Final evaluation of the model\n",
        "scores = model.evaluate(X_test, y_test, verbose=1)\n",
        "\n",
        "# tempo de execução total\n",
        "print(); print(\"Tempo de execução: %.5s segundos.\\n\" % (time.time() - start_time))\n",
        "\n",
        "# plot dos gráficos\n",
        "ntl.plot_accuracy(history)\n",
        "ntl.plot_loss(history)"
      ],
      "metadata": {
        "colab": {
          "base_uri": "https://localhost:8080/",
          "height": 642
        },
        "id": "GYSE3YZdVK6U",
        "outputId": "7d46e953-cc7e-413c-9308-083b502d881b"
      },
      "execution_count": null,
      "outputs": [
        {
          "output_type": "stream",
          "name": "stdout",
          "text": [
            "297/297 [==============================] - 63s 213ms/step - loss: 2.1146 - accuracy: 0.8621\n",
            "\n",
            "Tempo de execução: 4886. segundos.\n",
            "\n"
          ]
        },
        {
          "output_type": "display_data",
          "data": {
            "text/plain": [
              "<Figure size 432x288 with 1 Axes>"
            ],
            "image/png": "[encoded data removed]"
          },
          "metadata": {
            "needs_background": "light"
          }
        },
        {
          "output_type": "display_data",
          "data": {
            "text/plain": [
              "<Figure size 432x288 with 1 Axes>"
            ],
            "image/png": "[encoded data removed]"
          },
          "metadata": {
            "needs_background": "light"
          }
        }
      ]
    }
  ]
}